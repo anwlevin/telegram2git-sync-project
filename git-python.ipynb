{
 "cells": [
  {
   "cell_type": "code",
   "execution_count": 1,
   "id": "eb476da3",
   "metadata": {},
   "outputs": [],
   "source": [
    "REPO = 'some-tgbot-data'\n"
   ]
  },
  {
   "cell_type": "code",
   "execution_count": 14,
   "id": "56118b5d",
   "metadata": {},
   "outputs": [],
   "source": [
    "from git import Repo\n",
    "\n",
    "\n",
    "repo = Repo(REPO)\n"
   ]
  },
  {
   "cell_type": "code",
   "execution_count": 11,
   "id": "70d4a47b",
   "metadata": {},
   "outputs": [
    {
     "data": {
      "text/plain": [
       "[(100644, b8626c4cff2849624fb67f87cd0ad72b163671ad, 0, text4.txt)]"
      ]
     },
     "execution_count": 11,
     "metadata": {},
     "output_type": "execute_result"
    }
   ],
   "source": [
    "repo.index.add(['text4.txt'])"
   ]
  },
  {
   "cell_type": "code",
   "execution_count": 12,
   "id": "08ac305b",
   "metadata": {},
   "outputs": [
    {
     "data": {
      "text/plain": [
       "<git.Commit \"cb74d94f07aac7ff3b7b828a392705cc36ad6e46\">"
      ]
     },
     "execution_count": 12,
     "metadata": {},
     "output_type": "execute_result"
    }
   ],
   "source": [
    "repo.index.commit('COMMIT-4')"
   ]
  },
  {
   "cell_type": "code",
   "execution_count": 13,
   "id": "91dbcdf3",
   "metadata": {},
   "outputs": [
    {
     "data": {
      "text/plain": [
       "[<git.remote.PushInfo at 0x107c9af70>]"
      ]
     },
     "execution_count": 13,
     "metadata": {},
     "output_type": "execute_result"
    }
   ],
   "source": [
    "repo.remote('origin').push()"
   ]
  },
  {
   "cell_type": "code",
   "execution_count": null,
   "id": "9111b4f3",
   "metadata": {},
   "outputs": [],
   "source": []
  },
  {
   "cell_type": "code",
   "execution_count": null,
   "id": "8b88c519",
   "metadata": {},
   "outputs": [],
   "source": []
  },
  {
   "cell_type": "code",
   "execution_count": null,
   "id": "b39ed7ce",
   "metadata": {},
   "outputs": [],
   "source": []
  },
  {
   "cell_type": "code",
   "execution_count": null,
   "id": "8e343019",
   "metadata": {},
   "outputs": [],
   "source": []
  },
  {
   "cell_type": "code",
   "execution_count": null,
   "id": "f1b45ae5",
   "metadata": {},
   "outputs": [],
   "source": []
  }
 ],
 "metadata": {
  "kernelspec": {
   "display_name": "Python 3 (ipykernel)",
   "language": "python",
   "name": "python3"
  },
  "language_info": {
   "codemirror_mode": {
    "name": "ipython",
    "version": 3
   },
   "file_extension": ".py",
   "mimetype": "text/x-python",
   "name": "python",
   "nbconvert_exporter": "python",
   "pygments_lexer": "ipython3",
   "version": "3.11.2"
  }
 },
 "nbformat": 4,
 "nbformat_minor": 5
}
