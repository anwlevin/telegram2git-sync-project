{
 "cells": [
  {
   "cell_type": "code",
   "execution_count": 2,
   "id": "244d5b9f",
   "metadata": {},
   "outputs": [],
   "source": [
    "import utils\n",
    "\n",
    "REPO = 'some-tgbot-data'\n",
    "\n",
    "utils.repo_add_file_commit_and_push(REPO, 'text6.txt')\n"
   ]
  },
  {
   "cell_type": "code",
   "execution_count": null,
   "id": "afe1886a",
   "metadata": {},
   "outputs": [],
   "source": []
  },
  {
   "cell_type": "code",
   "execution_count": null,
   "id": "01491a80",
   "metadata": {},
   "outputs": [],
   "source": []
  },
  {
   "cell_type": "code",
   "execution_count": 6,
   "id": "6c799f4a",
   "metadata": {},
   "outputs": [],
   "source": [
    "from git import Repo\n",
    "\n",
    "repo = Repo(REPO)\n"
   ]
  },
  {
   "cell_type": "code",
   "execution_count": 11,
   "id": "96b79de6",
   "metadata": {},
   "outputs": [
    {
     "data": {
      "text/plain": [
       "[(100644, b8626c4cff2849624fb67f87cd0ad72b163671ad, 0, text4.txt)]"
      ]
     },
     "execution_count": 11,
     "metadata": {},
     "output_type": "execute_result"
    }
   ],
   "source": [
    "repo.index.add(['text4.txt'])"
   ]
  },
  {
   "cell_type": "code",
   "execution_count": 12,
   "id": "19bc3727",
   "metadata": {},
   "outputs": [
    {
     "data": {
      "text/plain": [
       "<git.Commit \"cb74d94f07aac7ff3b7b828a392705cc36ad6e46\">"
      ]
     },
     "execution_count": 12,
     "metadata": {},
     "output_type": "execute_result"
    }
   ],
   "source": [
    "repo.index.commit('COMMIT-4')"
   ]
  },
  {
   "cell_type": "code",
   "execution_count": 13,
   "id": "ba52c449",
   "metadata": {},
   "outputs": [
    {
     "data": {
      "text/plain": [
       "[<git.remote.PushInfo at 0x107c9af70>]"
      ]
     },
     "execution_count": 13,
     "metadata": {},
     "output_type": "execute_result"
    }
   ],
   "source": [
    "repo.remote('origin').push()"
   ]
  },
  {
   "cell_type": "code",
   "execution_count": null,
   "id": "b5837b10",
   "metadata": {},
   "outputs": [],
   "source": []
  },
  {
   "cell_type": "code",
   "execution_count": null,
   "id": "b7ccfaed",
   "metadata": {},
   "outputs": [],
   "source": []
  },
  {
   "cell_type": "code",
   "execution_count": null,
   "id": "fe2eee6a",
   "metadata": {},
   "outputs": [],
   "source": []
  },
  {
   "cell_type": "code",
   "execution_count": null,
   "id": "c7f41d07",
   "metadata": {},
   "outputs": [],
   "source": []
  },
  {
   "cell_type": "code",
   "execution_count": null,
   "id": "f8de0bf9",
   "metadata": {},
   "outputs": [],
   "source": []
  }
 ],
 "metadata": {
  "kernelspec": {
   "display_name": "Python 3 (ipykernel)",
   "language": "python",
   "name": "python3"
  },
  "language_info": {
   "codemirror_mode": {
    "name": "ipython",
    "version": 3
   },
   "file_extension": ".py",
   "mimetype": "text/x-python",
   "name": "python",
   "nbconvert_exporter": "python",
   "pygments_lexer": "ipython3",
   "version": "3.11.2"
  }
 },
 "nbformat": 4,
 "nbformat_minor": 5
}
